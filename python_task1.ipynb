{
 "cells": [
  {
   "cell_type": "code",
   "execution_count": 11,
   "id": "6dd90069",
   "metadata": {},
   "outputs": [
    {
     "name": "stdout",
     "output_type": "stream",
     "text": [
      "[1, 5, 4, 6]\n"
     ]
    }
   ],
   "source": [
    "#creating a list\n",
    "my_list=[1,2,3,4]\n",
    "#adding element to the list\n",
    "my_list.append(6)\n",
    "#removing element from the list\n",
    "my_list.remove(3)\n",
    "#modifying element in the list\n",
    "my_list[1]=5\n",
    "print(my_list)"
   ]
  },
  {
   "cell_type": "code",
   "execution_count": 9,
   "id": "a387a184",
   "metadata": {},
   "outputs": [
    {
     "name": "stdout",
     "output_type": "stream",
     "text": [
      "updated dict: {'name': 'ishu', 'city': 'banglore', 'gender': 'female'}\n"
     ]
    }
   ],
   "source": [
    "#creating dictionary\n",
    "my_dict={'name':'ishu','age':'20','city':'nellore'}\n",
    "#adding element to dictionary\n",
    "my_dict['gender']='female'\n",
    "#removing from the dictionary\n",
    "del my_dict['age']\n",
    "#modifying element from the dictionary\n",
    "my_dict['city']='banglore'\n",
    "print(\"updated dict:\",my_dict)"
   ]
  },
  {
   "cell_type": "code",
   "execution_count": 10,
   "id": "a1f63266",
   "metadata": {},
   "outputs": [
    {
     "name": "stdout",
     "output_type": "stream",
     "text": [
      "udpated set: {1, 3, 20, 5, 6}\n"
     ]
    }
   ],
   "source": [
    "#cresting a set\n",
    "my_set={1,2,3,4,5,6}\n",
    "#adding the element in the set\n",
    "my_set.add(6)\n",
    "#removing the element from the set\n",
    "my_set.remove(4)\n",
    "#modifying element from the set\n",
    "my_set.discard(2)\n",
    "my_set.add(20)\n",
    "print(\"udpated set:\",my_set)\n"
   ]
  },
  {
   "cell_type": "code",
   "execution_count": null,
   "id": "b4437ef6",
   "metadata": {},
   "outputs": [],
   "source": []
  }
 ],
 "metadata": {
  "kernelspec": {
   "display_name": "Python 3 (ipykernel)",
   "language": "python",
   "name": "python3"
  },
  "language_info": {
   "codemirror_mode": {
    "name": "ipython",
    "version": 3
   },
   "file_extension": ".py",
   "mimetype": "text/x-python",
   "name": "python",
   "nbconvert_exporter": "python",
   "pygments_lexer": "ipython3",
   "version": "3.11.7"
  }
 },
 "nbformat": 4,
 "nbformat_minor": 5
}
